{
 "cells": [
  {
   "cell_type": "code",
   "execution_count": 1,
   "metadata": {
    "collapsed": false
   },
   "outputs": [
    {
     "name": "stdout",
     "output_type": "stream",
     "text": [
      "Populating the interactive namespace from numpy and matplotlib\n",
      "/gws/open/NYCOpenData/nycopendata/data\n"
     ]
    },
    {
     "name": "stderr",
     "output_type": "stream",
     "text": [
      "/opt/rh/anaconda/root/envs/PUI2016_Python2/lib/python2.7/site-packages/IPython/html.py:14: ShimWarning: The `IPython.html` package has been deprecated. You should import from `notebook` instead. `IPython.html.widgets` has moved to `ipywidgets`.\n",
      "  \"`IPython.html.widgets` has moved to `ipywidgets`.\", ShimWarning)\n"
     ]
    }
   ],
   "source": [
    "import sys\n",
    "import os\n",
    "import pandas as pd\n",
    "from pandas import Series, DataFrame\n",
    "import seaborn\n",
    "\n",
    "import pylab as pl\n",
    "%pylab inline\n",
    "\n",
    "from datetime import datetime as dt\n",
    "import time\n",
    "\n",
    "df = os.getenv('DFDATA')\n",
    "\n",
    "print(df)"
   ]
  },
  {
   "cell_type": "code",
   "execution_count": 2,
   "metadata": {
    "collapsed": false
   },
   "outputs": [],
   "source": [
    "data = pd.read_csv( df + '/k46n-sa2m/1433871893/k46n-sa2m')"
   ]
  },
  {
   "cell_type": "code",
   "execution_count": 3,
   "metadata": {
    "collapsed": false
   },
   "outputs": [
    {
     "data": {
      "text/html": [
       "<div>\n",
       "<table border=\"1\" class=\"dataframe\">\n",
       "  <thead>\n",
       "    <tr style=\"text-align: right;\">\n",
       "      <th></th>\n",
       "      <th>Date of Census</th>\n",
       "      <th>Total Adults in Shelter</th>\n",
       "      <th>Total Children in Shelter</th>\n",
       "      <th>Total Individuals in Shelter</th>\n",
       "      <th>Single Adult Men in Shelter</th>\n",
       "      <th>Single Adult Women in Shelter</th>\n",
       "      <th>Total Single Adults in Shelter</th>\n",
       "      <th>Families with Children in Shelter</th>\n",
       "      <th>Adults in Families with Children in Shelter</th>\n",
       "      <th>Children in Families with Children in Shelter</th>\n",
       "      <th>Total Individuals in Families with Children in Shelter</th>\n",
       "      <th>Adult Families in Shelter</th>\n",
       "      <th>Individuals in Adult Families in Shelter</th>\n",
       "      <th>Families Requesting Temporary Housing at PATH</th>\n",
       "      <th>Adult Families Requesting Temporary Housing at AFIC</th>\n",
       "    </tr>\n",
       "  </thead>\n",
       "  <tbody>\n",
       "    <tr>\n",
       "      <th>0</th>\n",
       "      <td>06/08/2015</td>\n",
       "      <td>33137.0</td>\n",
       "      <td>23298.0</td>\n",
       "      <td>56435.0</td>\n",
       "      <td>8648.0</td>\n",
       "      <td>3264.0</td>\n",
       "      <td>11912.0</td>\n",
       "      <td>11707.0</td>\n",
       "      <td>16739.0</td>\n",
       "      <td>23298.0</td>\n",
       "      <td>40037.0</td>\n",
       "      <td>2134.0</td>\n",
       "      <td>4486.0</td>\n",
       "      <td>95.0</td>\n",
       "      <td>22.0</td>\n",
       "    </tr>\n",
       "    <tr>\n",
       "      <th>1</th>\n",
       "      <td>06/07/2015</td>\n",
       "      <td>33094.0</td>\n",
       "      <td>23284.0</td>\n",
       "      <td>56378.0</td>\n",
       "      <td>8610.0</td>\n",
       "      <td>3255.0</td>\n",
       "      <td>11865.0</td>\n",
       "      <td>11710.0</td>\n",
       "      <td>16743.0</td>\n",
       "      <td>23284.0</td>\n",
       "      <td>40027.0</td>\n",
       "      <td>2136.0</td>\n",
       "      <td>4486.0</td>\n",
       "      <td>61.0</td>\n",
       "      <td>10.0</td>\n",
       "    </tr>\n",
       "    <tr>\n",
       "      <th>2</th>\n",
       "      <td>06/06/2015</td>\n",
       "      <td>33065.0</td>\n",
       "      <td>23290.0</td>\n",
       "      <td>56355.0</td>\n",
       "      <td>8566.0</td>\n",
       "      <td>3245.0</td>\n",
       "      <td>11811.0</td>\n",
       "      <td>11706.0</td>\n",
       "      <td>16748.0</td>\n",
       "      <td>23290.0</td>\n",
       "      <td>40038.0</td>\n",
       "      <td>2145.0</td>\n",
       "      <td>4506.0</td>\n",
       "      <td>81.0</td>\n",
       "      <td>9.0</td>\n",
       "    </tr>\n",
       "    <tr>\n",
       "      <th>3</th>\n",
       "      <td>06/05/2015</td>\n",
       "      <td>33124.0</td>\n",
       "      <td>23286.0</td>\n",
       "      <td>56410.0</td>\n",
       "      <td>8627.0</td>\n",
       "      <td>3241.0</td>\n",
       "      <td>11868.0</td>\n",
       "      <td>11702.0</td>\n",
       "      <td>16749.0</td>\n",
       "      <td>23286.0</td>\n",
       "      <td>40035.0</td>\n",
       "      <td>2144.0</td>\n",
       "      <td>4507.0</td>\n",
       "      <td>106.0</td>\n",
       "      <td>12.0</td>\n",
       "    </tr>\n",
       "    <tr>\n",
       "      <th>4</th>\n",
       "      <td>06/04/2015</td>\n",
       "      <td>33171.0</td>\n",
       "      <td>23325.0</td>\n",
       "      <td>56496.0</td>\n",
       "      <td>8625.0</td>\n",
       "      <td>3251.0</td>\n",
       "      <td>11876.0</td>\n",
       "      <td>11715.0</td>\n",
       "      <td>16779.0</td>\n",
       "      <td>23325.0</td>\n",
       "      <td>40104.0</td>\n",
       "      <td>2149.0</td>\n",
       "      <td>4516.0</td>\n",
       "      <td>100.0</td>\n",
       "      <td>21.0</td>\n",
       "    </tr>\n",
       "  </tbody>\n",
       "</table>\n",
       "</div>"
      ],
      "text/plain": [
       "  Date of Census  Total Adults in Shelter  Total Children in Shelter  \\\n",
       "0     06/08/2015                  33137.0                    23298.0   \n",
       "1     06/07/2015                  33094.0                    23284.0   \n",
       "2     06/06/2015                  33065.0                    23290.0   \n",
       "3     06/05/2015                  33124.0                    23286.0   \n",
       "4     06/04/2015                  33171.0                    23325.0   \n",
       "\n",
       "   Total Individuals in Shelter  Single Adult Men in Shelter  \\\n",
       "0                       56435.0                       8648.0   \n",
       "1                       56378.0                       8610.0   \n",
       "2                       56355.0                       8566.0   \n",
       "3                       56410.0                       8627.0   \n",
       "4                       56496.0                       8625.0   \n",
       "\n",
       "   Single Adult Women in Shelter  Total Single Adults in Shelter  \\\n",
       "0                         3264.0                         11912.0   \n",
       "1                         3255.0                         11865.0   \n",
       "2                         3245.0                         11811.0   \n",
       "3                         3241.0                         11868.0   \n",
       "4                         3251.0                         11876.0   \n",
       "\n",
       "   Families with Children in Shelter  \\\n",
       "0                            11707.0   \n",
       "1                            11710.0   \n",
       "2                            11706.0   \n",
       "3                            11702.0   \n",
       "4                            11715.0   \n",
       "\n",
       "   Adults in Families with Children in Shelter  \\\n",
       "0                                      16739.0   \n",
       "1                                      16743.0   \n",
       "2                                      16748.0   \n",
       "3                                      16749.0   \n",
       "4                                      16779.0   \n",
       "\n",
       "   Children in Families with Children in Shelter  \\\n",
       "0                                        23298.0   \n",
       "1                                        23284.0   \n",
       "2                                        23290.0   \n",
       "3                                        23286.0   \n",
       "4                                        23325.0   \n",
       "\n",
       "   Total Individuals in Families with Children in Shelter   \\\n",
       "0                                            40037.0         \n",
       "1                                            40027.0         \n",
       "2                                            40038.0         \n",
       "3                                            40035.0         \n",
       "4                                            40104.0         \n",
       "\n",
       "   Adult Families in Shelter  Individuals in Adult Families in Shelter  \\\n",
       "0                     2134.0                                    4486.0   \n",
       "1                     2136.0                                    4486.0   \n",
       "2                     2145.0                                    4506.0   \n",
       "3                     2144.0                                    4507.0   \n",
       "4                     2149.0                                    4516.0   \n",
       "\n",
       "   Families Requesting Temporary Housing at PATH  \\\n",
       "0                                           95.0   \n",
       "1                                           61.0   \n",
       "2                                           81.0   \n",
       "3                                          106.0   \n",
       "4                                          100.0   \n",
       "\n",
       "   Adult Families Requesting Temporary Housing at AFIC  \n",
       "0                                               22.0    \n",
       "1                                               10.0    \n",
       "2                                                9.0    \n",
       "3                                               12.0    \n",
       "4                                               21.0    "
      ]
     },
     "execution_count": 3,
     "metadata": {},
     "output_type": "execute_result"
    }
   ],
   "source": [
    "data.head()"
   ]
  },
  {
   "cell_type": "code",
   "execution_count": 4,
   "metadata": {
    "collapsed": true
   },
   "outputs": [],
   "source": [
    "data.drop([u'Total Children in Shelter', u'Total Individuals in Shelter',\n",
    "       u'Single Adult Men in Shelter', u'Single Adult Women in Shelter',\n",
    "       u'Total Single Adults in Shelter', u'Families with Children in Shelter',\n",
    "       u'Adults in Families with Children in Shelter',\n",
    "       u'Children in Families with Children in Shelter',\n",
    "       u'Total Individuals in Families with Children in Shelter ',\n",
    "       u'Adult Families in Shelter',\n",
    "       u'Individuals in Adult Families in Shelter',\n",
    "       u'Families Requesting Temporary Housing at PATH',\n",
    "       u'Adult Families Requesting Temporary Housing at AFIC'],\n",
    "         axis = 1, inplace = True)"
   ]
  },
  {
   "cell_type": "code",
   "execution_count": 5,
   "metadata": {
    "collapsed": false
   },
   "outputs": [
    {
     "data": {
      "text/html": [
       "<div>\n",
       "<table border=\"1\" class=\"dataframe\">\n",
       "  <thead>\n",
       "    <tr style=\"text-align: right;\">\n",
       "      <th></th>\n",
       "      <th>Date of Census</th>\n",
       "      <th>Total Adults in Shelter</th>\n",
       "    </tr>\n",
       "  </thead>\n",
       "  <tbody>\n",
       "    <tr>\n",
       "      <th>0</th>\n",
       "      <td>06/08/2015</td>\n",
       "      <td>33137.0</td>\n",
       "    </tr>\n",
       "    <tr>\n",
       "      <th>1</th>\n",
       "      <td>06/07/2015</td>\n",
       "      <td>33094.0</td>\n",
       "    </tr>\n",
       "    <tr>\n",
       "      <th>2</th>\n",
       "      <td>06/06/2015</td>\n",
       "      <td>33065.0</td>\n",
       "    </tr>\n",
       "    <tr>\n",
       "      <th>3</th>\n",
       "      <td>06/05/2015</td>\n",
       "      <td>33124.0</td>\n",
       "    </tr>\n",
       "    <tr>\n",
       "      <th>4</th>\n",
       "      <td>06/04/2015</td>\n",
       "      <td>33171.0</td>\n",
       "    </tr>\n",
       "  </tbody>\n",
       "</table>\n",
       "</div>"
      ],
      "text/plain": [
       "  Date of Census  Total Adults in Shelter\n",
       "0     06/08/2015                  33137.0\n",
       "1     06/07/2015                  33094.0\n",
       "2     06/06/2015                  33065.0\n",
       "3     06/05/2015                  33124.0\n",
       "4     06/04/2015                  33171.0"
      ]
     },
     "execution_count": 5,
     "metadata": {},
     "output_type": "execute_result"
    }
   ],
   "source": [
    "data.head()"
   ]
  },
  {
   "cell_type": "code",
   "execution_count": 6,
   "metadata": {
    "collapsed": false
   },
   "outputs": [],
   "source": [
    "data['Date of Census'] = pd.to_datetime(data['Date of Census'],format=\"%m/%d/%Y\")"
   ]
  },
  {
   "cell_type": "code",
   "execution_count": 7,
   "metadata": {
    "collapsed": false
   },
   "outputs": [],
   "source": [
    "data = data.dropna()"
   ]
  },
  {
   "cell_type": "code",
   "execution_count": 8,
   "metadata": {
    "collapsed": false
   },
   "outputs": [
    {
     "data": {
      "text/plain": [
       "<matplotlib.text.Text at 0x7f817d50b850>"
      ]
     },
     "execution_count": 8,
     "metadata": {},
     "output_type": "execute_result"
    },
    {
     "data": {
      "image/png": "[encoded data removed]",
      "text/plain": [
       "<matplotlib.figure.Figure at 0x7f81f47db750>"
      ]
     },
     "metadata": {},
     "output_type": "display_data"
    }
   ],
   "source": [
    "ax = data.plot(x=\"Date of Census\",y=\"Total Adults in Shelter\",style='.',rot=90,alpha=0.5)\n",
    "ax.set_ylabel(\"Total Adults in Shelter\")\n",
    "ax.set_title(\"Figure 1: Total Adults in Shelter\")"
   ]
  },
  {
   "cell_type": "markdown",
   "metadata": {
    "collapsed": true
   },
   "source": [
    "**Figure 1**  DHS Daily Report - Total Adults in Shelter"
   ]
  },
  {
   "cell_type": "code",
   "execution_count": null,
   "metadata": {
    "collapsed": true
   },
   "outputs": [],
   "source": []
  }
 ],
 "metadata": {
  "kernelspec": {
   "display_name": "PUI2016_Python2",
   "language": "python",
   "name": "pui2016_python2"
  },
  "language_info": {
   "codemirror_mode": {
    "name": "ipython",
    "version": 2
   },
   "file_extension": ".py",
   "mimetype": "text/x-python",
   "name": "python",
   "nbconvert_exporter": "python",
   "pygments_lexer": "ipython2",
   "version": "2.7.12"
  }
 },
 "nbformat": 4,
 "nbformat_minor": 0
}
