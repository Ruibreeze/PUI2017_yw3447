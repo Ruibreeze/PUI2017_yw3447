{
 "cells": [
  {
   "cell_type": "markdown",
   "metadata": {},
   "source": [
    "# Homework 7 Assignment 1\n",
    "# By Yukun Wan (yw3447)"
   ]
  },
  {
   "cell_type": "markdown",
   "metadata": {},
   "source": [
    "# IDEA\n",
    "\n",
    "### People prefer to ride bike for short distance, which is less than 15 minutes**\n",
    "\n",
    "# Null hypothesis \n",
    "### H0: The fraction of >15min trips over total number of trips on weekdays is more or the same as the fraction of <15min trips over total number of trips on weekdays.\n",
    "### H0: Tlong >= Tshort\n",
    "\n",
    "# Alternative hypothesis \n",
    "### H1: The fraction of >15min trips over total number of trips on weekdays is less than the fraction of <15min trips over total number of trips on weekdays.\n",
    "### H1: Tlong < Tshort\n",
    "\n",
    "# The significance level is 0.05\n"
   ]
  },
  {
   "cell_type": "code",
   "execution_count": 1,
   "metadata": {},
   "outputs": [
    {
     "name": "stdout",
     "output_type": "stream",
     "text": [
      "Populating the interactive namespace from numpy and matplotlib\n"
     ]
    },
    {
     "data": {
      "text/plain": [
       "'/Users/wanyukun/PUIdata'"
      ]
     },
     "execution_count": 1,
     "metadata": {},
     "output_type": "execute_result"
    }
   ],
   "source": [
    "from __future__  import print_function, division\n",
    "import pylab as pl\n",
    "import pandas as pd\n",
    "import sys\n",
    "import os\n",
    "from evalChisq import evalChisq\n",
    "\n",
    "%pylab inline\n",
    "\n",
    "os.getenv('PUIDATA')\n"
   ]
  },
  {
   "cell_type": "code",
   "execution_count": 2,
   "metadata": {},
   "outputs": [],
   "source": [
    "def getCitiBikeCSV(datestring):\n",
    "    print (\"Downloading\", datestring)\n",
    "    ### First I will heck that it is not already there\n",
    "    if not os.path.isfile(os.getenv(\"PUIDATA\") + \"/\" + datestring + \"-citibike-tripdata.csv\"):\n",
    "        if os.path.isfile(datestring + \"-citibike-tripdata.csv\"):\n",
    "            # if in the current dir just move it\n",
    "            if os.system(\"mv \" + datestring + \"-citibike-tripdata.csv \" + os.getenv(\"PUIDATA\")):\n",
    "                print (\"Error moving file!, Please check!\")\n",
    "        #otherwise start looking for the zip file\n",
    "        else:\n",
    "            if not os.path.isfile(os.getenv(\"PUIDATA\") + \"/\" + datestring + \"-citibike-tripdata.zip\"):\n",
    "                if not os.path.isfile(datestring + \"-citibike-tripdata.zip\"):\n",
    "                    os.system(\"curl -O https://s3.amazonaws.com/tripdata/\" + datestring + \"-citibike-tripdata.zip\")\n",
    "                ###  To move it I use the os.system() functions to run bash commands with arguments\n",
    "                os.system(\"mv \" + datestring + \"-citibike-tripdata.zip \" + os.getenv(\"PUIDATA\"))\n",
    "            ### unzip the csv \n",
    "            os.system(\"unzip \" + os.getenv(\"PUIDATA\") + \"/\" + datestring + \"-citibike-tripdata.zip\")\n",
    "            ## NOTE: old csv citibike data had a different name structure. \n",
    "            if '2014' in datestring:\n",
    "                os.system(\"mv \" + datestring[:4] + '-' +  datestring[4:] + \n",
    "                          \"\\ -\\ Citi\\ Bike\\ trip\\ data.csv \" + datestring + \"-citibike-tripdata.csv\")\n",
    "            os.system(\"mv \" + datestring + \"-citibike-tripdata.csv \" + os.getenv(\"PUIDATA\"))\n",
    "    ### One final check:\n",
    "    if not os.path.isfile(os.getenv(\"PUIDATA\") + \"/\" + datestring + \"-citibike-tripdata.csv\"):\n",
    "        print (\"WARNING!!! something is wrong: the file is not there!\")\n",
    "\n",
    "    else:\n",
    "        print (\"file in place, you can continue\")"
   ]
  },
  {
   "cell_type": "code",
   "execution_count": 3,
   "metadata": {},
   "outputs": [
    {
     "name": "stdout",
     "output_type": "stream",
     "text": [
      "Downloading 201612\n",
      "file in place, you can continue\n"
     ]
    }
   ],
   "source": [
    "datestring = '201612'\n",
    "getCitiBikeCSV(datestring)"
   ]
  },
  {
   "cell_type": "code",
   "execution_count": 4,
   "metadata": {},
   "outputs": [
    {
     "data": {
      "text/html": [
       "<div>\n",
       "<style>\n",
       "    .dataframe thead tr:only-child th {\n",
       "        text-align: right;\n",
       "    }\n",
       "\n",
       "    .dataframe thead th {\n",
       "        text-align: left;\n",
       "    }\n",
       "\n",
       "    .dataframe tbody tr th {\n",
       "        vertical-align: top;\n",
       "    }\n",
       "</style>\n",
       "<table border=\"1\" class=\"dataframe\">\n",
       "  <thead>\n",
       "    <tr style=\"text-align: right;\">\n",
       "      <th></th>\n",
       "      <th>Trip Duration</th>\n",
       "      <th>Start Time</th>\n",
       "      <th>Stop Time</th>\n",
       "      <th>Start Station ID</th>\n",
       "      <th>Start Station Name</th>\n",
       "      <th>Start Station Latitude</th>\n",
       "      <th>Start Station Longitude</th>\n",
       "      <th>End Station ID</th>\n",
       "      <th>End Station Name</th>\n",
       "      <th>End Station Latitude</th>\n",
       "      <th>End Station Longitude</th>\n",
       "      <th>Bike ID</th>\n",
       "      <th>User Type</th>\n",
       "      <th>Birth Year</th>\n",
       "      <th>Gender</th>\n",
       "      <th>date</th>\n",
       "    </tr>\n",
       "  </thead>\n",
       "  <tbody>\n",
       "    <tr>\n",
       "      <th>0</th>\n",
       "      <td>528</td>\n",
       "      <td>2016-12-01 00:00:04</td>\n",
       "      <td>2016-12-01 00:08:52</td>\n",
       "      <td>499</td>\n",
       "      <td>Broadway &amp; W 60 St</td>\n",
       "      <td>40.769155</td>\n",
       "      <td>-73.981918</td>\n",
       "      <td>228</td>\n",
       "      <td>E 48 St &amp; 3 Ave</td>\n",
       "      <td>40.754601</td>\n",
       "      <td>-73.971879</td>\n",
       "      <td>26931</td>\n",
       "      <td>Subscriber</td>\n",
       "      <td>1964.0</td>\n",
       "      <td>1</td>\n",
       "      <td>2016-12-01 00:00:04</td>\n",
       "    </tr>\n",
       "    <tr>\n",
       "      <th>1</th>\n",
       "      <td>218</td>\n",
       "      <td>2016-12-01 00:00:28</td>\n",
       "      <td>2016-12-01 00:04:06</td>\n",
       "      <td>3418</td>\n",
       "      <td>Plaza St West &amp; Flatbush Ave</td>\n",
       "      <td>40.675021</td>\n",
       "      <td>-73.971115</td>\n",
       "      <td>3358</td>\n",
       "      <td>Garfield Pl &amp; 8 Ave</td>\n",
       "      <td>40.671198</td>\n",
       "      <td>-73.974841</td>\n",
       "      <td>27122</td>\n",
       "      <td>Subscriber</td>\n",
       "      <td>1955.0</td>\n",
       "      <td>1</td>\n",
       "      <td>2016-12-01 00:00:28</td>\n",
       "    </tr>\n",
       "    <tr>\n",
       "      <th>2</th>\n",
       "      <td>399</td>\n",
       "      <td>2016-12-01 00:00:39</td>\n",
       "      <td>2016-12-01 00:07:19</td>\n",
       "      <td>297</td>\n",
       "      <td>E 15 St &amp; 3 Ave</td>\n",
       "      <td>40.734232</td>\n",
       "      <td>-73.986923</td>\n",
       "      <td>345</td>\n",
       "      <td>W 13 St &amp; 6 Ave</td>\n",
       "      <td>40.736494</td>\n",
       "      <td>-73.997044</td>\n",
       "      <td>19352</td>\n",
       "      <td>Subscriber</td>\n",
       "      <td>1985.0</td>\n",
       "      <td>1</td>\n",
       "      <td>2016-12-01 00:00:39</td>\n",
       "    </tr>\n",
       "    <tr>\n",
       "      <th>3</th>\n",
       "      <td>254</td>\n",
       "      <td>2016-12-01 00:00:44</td>\n",
       "      <td>2016-12-01 00:04:59</td>\n",
       "      <td>405</td>\n",
       "      <td>Washington St &amp; Gansevoort St</td>\n",
       "      <td>40.739323</td>\n",
       "      <td>-74.008119</td>\n",
       "      <td>358</td>\n",
       "      <td>Christopher St &amp; Greenwich St</td>\n",
       "      <td>40.732916</td>\n",
       "      <td>-74.007114</td>\n",
       "      <td>20015</td>\n",
       "      <td>Subscriber</td>\n",
       "      <td>1982.0</td>\n",
       "      <td>1</td>\n",
       "      <td>2016-12-01 00:00:44</td>\n",
       "    </tr>\n",
       "    <tr>\n",
       "      <th>4</th>\n",
       "      <td>1805</td>\n",
       "      <td>2016-12-01 00:00:54</td>\n",
       "      <td>2016-12-01 00:31:00</td>\n",
       "      <td>279</td>\n",
       "      <td>Peck Slip &amp; Front St</td>\n",
       "      <td>40.707873</td>\n",
       "      <td>-74.001670</td>\n",
       "      <td>279</td>\n",
       "      <td>Peck Slip &amp; Front St</td>\n",
       "      <td>40.707873</td>\n",
       "      <td>-74.001670</td>\n",
       "      <td>23148</td>\n",
       "      <td>Subscriber</td>\n",
       "      <td>1989.0</td>\n",
       "      <td>1</td>\n",
       "      <td>2016-12-01 00:00:54</td>\n",
       "    </tr>\n",
       "  </tbody>\n",
       "</table>\n",
       "</div>"
      ],
      "text/plain": [
       "   Trip Duration           Start Time            Stop Time  Start Station ID  \\\n",
       "0            528  2016-12-01 00:00:04  2016-12-01 00:08:52               499   \n",
       "1            218  2016-12-01 00:00:28  2016-12-01 00:04:06              3418   \n",
       "2            399  2016-12-01 00:00:39  2016-12-01 00:07:19               297   \n",
       "3            254  2016-12-01 00:00:44  2016-12-01 00:04:59               405   \n",
       "4           1805  2016-12-01 00:00:54  2016-12-01 00:31:00               279   \n",
       "\n",
       "              Start Station Name  Start Station Latitude  \\\n",
       "0             Broadway & W 60 St               40.769155   \n",
       "1   Plaza St West & Flatbush Ave               40.675021   \n",
       "2                E 15 St & 3 Ave               40.734232   \n",
       "3  Washington St & Gansevoort St               40.739323   \n",
       "4           Peck Slip & Front St               40.707873   \n",
       "\n",
       "   Start Station Longitude  End Station ID               End Station Name  \\\n",
       "0               -73.981918             228                E 48 St & 3 Ave   \n",
       "1               -73.971115            3358            Garfield Pl & 8 Ave   \n",
       "2               -73.986923             345                W 13 St & 6 Ave   \n",
       "3               -74.008119             358  Christopher St & Greenwich St   \n",
       "4               -74.001670             279           Peck Slip & Front St   \n",
       "\n",
       "   End Station Latitude  End Station Longitude  Bike ID   User Type  \\\n",
       "0             40.754601             -73.971879    26931  Subscriber   \n",
       "1             40.671198             -73.974841    27122  Subscriber   \n",
       "2             40.736494             -73.997044    19352  Subscriber   \n",
       "3             40.732916             -74.007114    20015  Subscriber   \n",
       "4             40.707873             -74.001670    23148  Subscriber   \n",
       "\n",
       "   Birth Year  Gender                date  \n",
       "0      1964.0       1 2016-12-01 00:00:04  \n",
       "1      1955.0       1 2016-12-01 00:00:28  \n",
       "2      1985.0       1 2016-12-01 00:00:39  \n",
       "3      1982.0       1 2016-12-01 00:00:44  \n",
       "4      1989.0       1 2016-12-01 00:00:54  "
      ]
     },
     "execution_count": 4,
     "metadata": {},
     "output_type": "execute_result"
    }
   ],
   "source": [
    "df = pd.read_csv(os.getenv(\"PUIDATA\") + \"/\" + datestring + '-citibike-tripdata.csv')\n",
    "df['date'] = pd.to_datetime(df['Start Time'])\n",
    "\n",
    "df.head()"
   ]
  },
  {
   "cell_type": "code",
   "execution_count": 5,
   "metadata": {},
   "outputs": [
    {
     "data": {
      "text/plain": [
       "Index([u'Trip Duration', u'Start Time', u'Stop Time', u'Start Station ID',\n",
       "       u'Start Station Name', u'Start Station Latitude',\n",
       "       u'Start Station Longitude', u'End Station ID', u'End Station Name',\n",
       "       u'End Station Latitude', u'End Station Longitude', u'Bike ID',\n",
       "       u'User Type', u'Birth Year', u'Gender', u'date'],\n",
       "      dtype='object')"
      ]
     },
     "execution_count": 5,
     "metadata": {},
     "output_type": "execute_result"
    }
   ],
   "source": [
    "df.keys()"
   ]
  },
  {
   "cell_type": "code",
   "execution_count": 6,
   "metadata": {},
   "outputs": [],
   "source": [
    "df.drop([u'Start Time', u'Stop Time', u'Start Station ID',\n",
    "       u'Start Station Name', u'Start Station Latitude',\n",
    "       u'Start Station Longitude', u'End Station ID', u'End Station Name',\n",
    "       u'End Station Latitude', u'End Station Longitude', u'Bike ID',\n",
    "       u'User Type', u'Birth Year', u'Gender'], axis=1,inplace=True)"
   ]
  },
  {
   "cell_type": "code",
   "execution_count": 7,
   "metadata": {},
   "outputs": [
    {
     "data": {
      "text/html": [
       "<div>\n",
       "<style>\n",
       "    .dataframe thead tr:only-child th {\n",
       "        text-align: right;\n",
       "    }\n",
       "\n",
       "    .dataframe thead th {\n",
       "        text-align: left;\n",
       "    }\n",
       "\n",
       "    .dataframe tbody tr th {\n",
       "        vertical-align: top;\n",
       "    }\n",
       "</style>\n",
       "<table border=\"1\" class=\"dataframe\">\n",
       "  <thead>\n",
       "    <tr style=\"text-align: right;\">\n",
       "      <th></th>\n",
       "      <th>Trip Duration</th>\n",
       "    </tr>\n",
       "  </thead>\n",
       "  <tbody>\n",
       "    <tr>\n",
       "      <th>count</th>\n",
       "      <td>8.121920e+05</td>\n",
       "    </tr>\n",
       "    <tr>\n",
       "      <th>mean</th>\n",
       "      <td>7.759573e+02</td>\n",
       "    </tr>\n",
       "    <tr>\n",
       "      <th>std</th>\n",
       "      <td>7.542199e+03</td>\n",
       "    </tr>\n",
       "    <tr>\n",
       "      <th>min</th>\n",
       "      <td>6.100000e+01</td>\n",
       "    </tr>\n",
       "    <tr>\n",
       "      <th>25%</th>\n",
       "      <td>3.340000e+02</td>\n",
       "    </tr>\n",
       "    <tr>\n",
       "      <th>50%</th>\n",
       "      <td>5.330000e+02</td>\n",
       "    </tr>\n",
       "    <tr>\n",
       "      <th>75%</th>\n",
       "      <td>8.760000e+02</td>\n",
       "    </tr>\n",
       "    <tr>\n",
       "      <th>max</th>\n",
       "      <td>3.473103e+06</td>\n",
       "    </tr>\n",
       "  </tbody>\n",
       "</table>\n",
       "</div>"
      ],
      "text/plain": [
       "       Trip Duration\n",
       "count   8.121920e+05\n",
       "mean    7.759573e+02\n",
       "std     7.542199e+03\n",
       "min     6.100000e+01\n",
       "25%     3.340000e+02\n",
       "50%     5.330000e+02\n",
       "75%     8.760000e+02\n",
       "max     3.473103e+06"
      ]
     },
     "execution_count": 7,
     "metadata": {},
     "output_type": "execute_result"
    }
   ],
   "source": [
    "df.describe()"
   ]
  },
  {
   "cell_type": "code",
   "execution_count": 8,
   "metadata": {},
   "outputs": [
    {
     "data": {
      "image/png": "[encoded data removed]",
      "text/plain": [
       "<matplotlib.figure.Figure at 0x11aab6490>"
      ]
     },
     "metadata": {},
     "output_type": "display_data"
    }
   ],
   "source": [
    "pl.hist(df['Trip Duration'])\n",
    "pl.xlabel('Trip Durations')\n",
    "pl.ylabel('Frequency')\n",
    "pl.show()"
   ]
  },
  {
   "cell_type": "markdown",
   "metadata": {},
   "source": [
    "**Figure 1:** Frequency of Trip durations in December 2016 before removing outliers."
   ]
  },
  {
   "cell_type": "code",
   "execution_count": 9,
   "metadata": {},
   "outputs": [],
   "source": [
    "# Remove outlier\n",
    "df = df[(df['Trip Duration'] < df['Trip Duration'].mean() + 3 * df['Trip Duration'].std()) & \\\n",
    "  (df['Trip Duration'] > df['Trip Duration'].mean() - 3 * df['Trip Duration'].std())]"
   ]
  },
  {
   "cell_type": "code",
   "execution_count": 10,
   "metadata": {},
   "outputs": [
    {
     "data": {
      "text/html": [
       "<div>\n",
       "<style>\n",
       "    .dataframe thead tr:only-child th {\n",
       "        text-align: right;\n",
       "    }\n",
       "\n",
       "    .dataframe thead th {\n",
       "        text-align: left;\n",
       "    }\n",
       "\n",
       "    .dataframe tbody tr th {\n",
       "        vertical-align: top;\n",
       "    }\n",
       "</style>\n",
       "<table border=\"1\" class=\"dataframe\">\n",
       "  <thead>\n",
       "    <tr style=\"text-align: right;\">\n",
       "      <th></th>\n",
       "      <th>Trip Duration</th>\n",
       "    </tr>\n",
       "  </thead>\n",
       "  <tbody>\n",
       "    <tr>\n",
       "      <th>count</th>\n",
       "      <td>811697.000000</td>\n",
       "    </tr>\n",
       "    <tr>\n",
       "      <th>mean</th>\n",
       "      <td>699.729096</td>\n",
       "    </tr>\n",
       "    <tr>\n",
       "      <th>std</th>\n",
       "      <td>664.394607</td>\n",
       "    </tr>\n",
       "    <tr>\n",
       "      <th>min</th>\n",
       "      <td>61.000000</td>\n",
       "    </tr>\n",
       "    <tr>\n",
       "      <th>25%</th>\n",
       "      <td>334.000000</td>\n",
       "    </tr>\n",
       "    <tr>\n",
       "      <th>50%</th>\n",
       "      <td>533.000000</td>\n",
       "    </tr>\n",
       "    <tr>\n",
       "      <th>75%</th>\n",
       "      <td>875.000000</td>\n",
       "    </tr>\n",
       "    <tr>\n",
       "      <th>max</th>\n",
       "      <td>23381.000000</td>\n",
       "    </tr>\n",
       "  </tbody>\n",
       "</table>\n",
       "</div>"
      ],
      "text/plain": [
       "       Trip Duration\n",
       "count  811697.000000\n",
       "mean      699.729096\n",
       "std       664.394607\n",
       "min        61.000000\n",
       "25%       334.000000\n",
       "50%       533.000000\n",
       "75%       875.000000\n",
       "max     23381.000000"
      ]
     },
     "execution_count": 10,
     "metadata": {},
     "output_type": "execute_result"
    }
   ],
   "source": [
    "df.describe()"
   ]
  },
  {
   "cell_type": "code",
   "execution_count": 11,
   "metadata": {},
   "outputs": [
    {
     "data": {
      "image/png": "[encoded data removed]",
      "text/plain": [
       "<matplotlib.figure.Figure at 0x11aab6bd0>"
      ]
     },
     "metadata": {},
     "output_type": "display_data"
    }
   ],
   "source": [
    "pl.hist(df['Trip Duration'],bins=200)\n",
    "pl.xlim(0,5000)\n",
    "pl.xlabel('Trip Durations')\n",
    "pl.ylabel('Frequency')\n",
    "pl.show()"
   ]
  },
  {
   "cell_type": "markdown",
   "metadata": {},
   "source": [
    "**Figure 2:** Frequency of Trip durations in December 2016 after removing outliers with 3-sigma rules."
   ]
  },
  {
   "cell_type": "markdown",
   "metadata": {},
   "source": [
    "# Lets separate trips more than 15 minutes (Long trip) from trips equal or less than 15 trips (Short trip) to test the hypotheses.\n",
    "# In this csv file Trip Duration > 900 is long trip, Trip Duration <= 900 is short trip\n",
    "# Lets plot the number of trips per week day"
   ]
  },
  {
   "cell_type": "code",
   "execution_count": 12,
   "metadata": {},
   "outputs": [
    {
     "data": {
      "text/plain": [
       "<matplotlib.legend.Legend at 0x10b80e310>"
      ]
     },
     "execution_count": 12,
     "metadata": {},
     "output_type": "execute_result"
    },
    {
     "data": {
      "image/png": "[encoded data removed]",
      "text/plain": [
       "<matplotlib.figure.Figure at 0x10f1c4590>"
      ]
     },
     "metadata": {},
     "output_type": "display_data"
    }
   ],
   "source": [
    "fig = pl.figure(figsize(10,5))\n",
    "\n",
    "#instad of plotting with matplotlib i.e. plot() i use the plot method in pandas\n",
    "norm_long = 1\n",
    "ax = ((df['date'][df['Trip Duration'] > 900].groupby([df['date'].dt.weekday]).count()) / norm_long).plot(kind=\"bar\", \n",
    "                                                                                         color='IndianRed', \n",
    "                                                                                         label='Long')\n",
    "\n",
    "norm_short = 1\n",
    "ax = ((df['date'][df['Trip Duration'] <= 900].groupby([df['date'].dt.weekday]).count()) / norm_short).plot(kind=\"bar\", \n",
    "                                                                                              color='SteelBlue', \n",
    "                                                                                              alpha=0.5,\n",
    "                                                                                              label='Short')\n",
    "\n",
    "tmp = ax.xaxis.set_ticklabels(['Mon', 'Tue', 'Wed', 'Thu', 'Fri', 'Sat', 'Sun'], fontsize=20)\n",
    "ax.set_ylabel('Frequency')\n",
    "ax.set_xlabel('The day of week')\n",
    "pl.legend()"
   ]
  },
  {
   "cell_type": "markdown",
   "metadata": {},
   "source": [
    "### Figure 1: Distribution of Citibike bikers by ride time in December 2016, absolute counts"
   ]
  },
  {
   "cell_type": "code",
   "execution_count": 13,
   "metadata": {},
   "outputs": [
    {
     "data": {
      "text/plain": [
       "<matplotlib.legend.Legend at 0x10b853950>"
      ]
     },
     "execution_count": 13,
     "metadata": {},
     "output_type": "execute_result"
    },
    {
     "data": {
      "image/png": "[encoded data removed]",
      "text/plain": [
       "<matplotlib.figure.Figure at 0x10f18a6d0>"
      ]
     },
     "metadata": {},
     "output_type": "display_data"
    }
   ],
   "source": [
    "fig=pl.figure(figsize(10,5))\n",
    "\n",
    "counts_long = df.date[df['Trip Duration'] > 900].groupby([df.date.dt.weekday]).count()\n",
    "norm_long = 1\n",
    "error_long = np.sqrt(counts_long)\n",
    "ax=((counts_long) / norm_long).plot(kind=\"bar\",color='IndianRed',  yerr=[\n",
    "            ((error_long) / norm_long, (error_long) / norm_long)], label='Long Trips')\n",
    "\n",
    "\n",
    "counts_short = df.date[df['Trip Duration'] <= 900].groupby([df.date.dt.weekday]).count()\n",
    "norm_short = 1\n",
    "error_short =np.sqrt(counts_short)\n",
    "ax = ((counts_short) / norm_short).plot(kind=\"bar\", color='SteelBlue', alpha=0.5, yerr=[\n",
    "            ((error_short) / norm_short, (error_short) / norm_short)], label='Short Trips')\n",
    "\n",
    "ax.xaxis.set_ticklabels(['Mon','Tue','Wed','Thu','Fri','Sat','Sun'], fontsize=20)\n",
    "ax.set_ylabel (\"Number of rides\")\n",
    "ax.set_xlabel (\"Day of the week\")\n",
    "pl.legend()"
   ]
  },
  {
   "cell_type": "markdown",
   "metadata": {},
   "source": [
    "### Figure 2: Distribution of Citibike bikers by ride time in December 2016, absolute counts, with statistical errors"
   ]
  },
  {
   "cell_type": "markdown",
   "metadata": {
    "collapsed": true
   },
   "source": [
    "## Analysis"
   ]
  },
  {
   "cell_type": "code",
   "execution_count": 14,
   "metadata": {},
   "outputs": [
    {
     "data": {
      "text/html": [
       "<div>\n",
       "<style>\n",
       "    .dataframe thead tr:only-child th {\n",
       "        text-align: right;\n",
       "    }\n",
       "\n",
       "    .dataframe thead th {\n",
       "        text-align: left;\n",
       "    }\n",
       "\n",
       "    .dataframe tbody tr th {\n",
       "        vertical-align: top;\n",
       "    }\n",
       "</style>\n",
       "<table border=\"1\" class=\"dataframe\">\n",
       "  <thead>\n",
       "    <tr style=\"text-align: right;\">\n",
       "      <th></th>\n",
       "      <th>Trip Duration</th>\n",
       "      <th>date</th>\n",
       "    </tr>\n",
       "  </thead>\n",
       "  <tbody>\n",
       "    <tr>\n",
       "      <th>0</th>\n",
       "      <td>528</td>\n",
       "      <td>2016-12-01 00:00:04</td>\n",
       "    </tr>\n",
       "    <tr>\n",
       "      <th>1</th>\n",
       "      <td>218</td>\n",
       "      <td>2016-12-01 00:00:28</td>\n",
       "    </tr>\n",
       "    <tr>\n",
       "      <th>2</th>\n",
       "      <td>399</td>\n",
       "      <td>2016-12-01 00:00:39</td>\n",
       "    </tr>\n",
       "    <tr>\n",
       "      <th>3</th>\n",
       "      <td>254</td>\n",
       "      <td>2016-12-01 00:00:44</td>\n",
       "    </tr>\n",
       "    <tr>\n",
       "      <th>4</th>\n",
       "      <td>1805</td>\n",
       "      <td>2016-12-01 00:00:54</td>\n",
       "    </tr>\n",
       "  </tbody>\n",
       "</table>\n",
       "</div>"
      ],
      "text/plain": [
       "   Trip Duration                date\n",
       "0            528 2016-12-01 00:00:04\n",
       "1            218 2016-12-01 00:00:28\n",
       "2            399 2016-12-01 00:00:39\n",
       "3            254 2016-12-01 00:00:44\n",
       "4           1805 2016-12-01 00:00:54"
      ]
     },
     "execution_count": 14,
     "metadata": {},
     "output_type": "execute_result"
    }
   ],
   "source": [
    "df.head()"
   ]
  },
  {
   "cell_type": "code",
   "execution_count": 15,
   "metadata": {},
   "outputs": [],
   "source": [
    "norm_week = sum(counts_long[:-2]) + sum(counts_short[:-2])\n",
    "norm_weekend = sum(counts_long[-2:]) + sum(counts_short[-2:])"
   ]
  },
  {
   "cell_type": "code",
   "execution_count": 16,
   "metadata": {},
   "outputs": [],
   "source": [
    "week_long = sum(counts_long[:-2]) * 1.0 / norm_week  #fraction of long riding on week days\n",
    "week_short = sum(counts_short[:-2]) * 1.0 / norm_week\n",
    "weekend_long = sum(counts_long[-2:]) * 1.0 / norm_weekend  #fraction of long riding on weekends\n",
    "weekend_short = sum(counts_short[-2:]) * 1.0 / norm_weekend\n",
    "\n",
    "eweek_long = np.sqrt(sum(error_long[:-2]**2)) / norm_week  #error on fraction number of long riding on week days\n",
    "eweek_short = np.sqrt(sum(error_short[:-2]**2)) / norm_week\n",
    "eweekend_long = np.sqrt(sum(error_long[-2:]**2)) / norm_weekend #error on fraction number of long riding on weekends\n",
    "eweekend_short = np.sqrt(sum(error_short[-2:]**2)) / norm_weekend"
   ]
  },
  {
   "cell_type": "code",
   "execution_count": 17,
   "metadata": {},
   "outputs": [
    {
     "name": "stdout",
     "output_type": "stream",
     "text": [
      "Long: week:0.232, weekend:0.264, weekend error:0.001, weekend error:0.001\n",
      "Short: week:0.768, weekend:0.736, weekend error:0.001, weekend error:0.002\n"
     ]
    }
   ],
   "source": [
    "print(\"Long: week:{0:.3f}, weekend:{1:.3f}, weekend error:{2:.3f}, weekend error:{3:.3f}\"\\\n",
    "      .format(week_long, weekend_long, eweek_long, eweekend_long))\n",
    "print(\"Short: week:{0:.3f}, weekend:{1:.3f}, weekend error:{2:.3f}, weekend error:{3:.3f}\"\\\n",
    "      .format(week_short, weekend_short, eweek_short, eweekend_short))"
   ]
  },
  {
   "cell_type": "code",
   "execution_count": 18,
   "metadata": {},
   "outputs": [
    {
     "data": {
      "text/plain": [
       "<matplotlib.legend.Legend at 0x10e8dc950>"
      ]
     },
     "execution_count": 18,
     "metadata": {},
     "output_type": "execute_result"
    },
    {
     "data": {
      "image/png": "[encoded data removed]",
      "text/plain": [
       "<matplotlib.figure.Figure at 0x10e869050>"
      ]
     },
     "metadata": {},
     "output_type": "display_data"
    }
   ],
   "source": [
    "fig = pl.figure(figsize(15,6))\n",
    "ax1 = fig.add_subplot(121)\n",
    "ax2 = fig.add_subplot(122)\n",
    "ax1.set_xticks([])\n",
    "ax2.set_xticks([])\n",
    "\n",
    "ax1.errorbar([0.4], [week_long], yerr=[eweek_long], fmt='o', label='long')\n",
    "ax1.errorbar([0.2], [week_short], yerr=[eweek_short], fmt='o', label='short')\n",
    "ax1.set_xlim(0, 0.5)\n",
    "ax2.errorbar([0.4], [weekend_long], yerr=[eweekend_long], fmt='o', label='long')\n",
    "ax2.errorbar([0.2], [weekend_short], yerr=[eweekend_short], fmt='o', label='short')\n",
    "ax1.set_xlim(0, 0.5)\n",
    "ax1.set_title(\"week days\")\n",
    "ax2.set_title(\"weekends\")\n",
    "ax2.set_ylabel(\"Fraction of normalized rides by duration\")\n",
    "ax1.set_ylabel(\"Fraction of normalized rides by duration\")\n",
    "\n",
    "pl.xlim(-0.5, 1.5)\n",
    "pl.legend(fontsize = 20)"
   ]
  },
  {
   "cell_type": "markdown",
   "metadata": {},
   "source": [
    "**Figure 3:** Fraction of Citibike trips based on long/short durations in December 2016 for week days (left) and weekends (right)"
   ]
  },
  {
   "cell_type": "markdown",
   "metadata": {},
   "source": [
    "### Use chi-square test to analyze\n",
    "\n",
    "Is the fraction of long trips(>15min) over total number of trips on weekdays more or equal to that of short trips(<=15min)?\n"
   ]
  },
  {
   "cell_type": "code",
   "execution_count": 19,
   "metadata": {},
   "outputs": [
    {
     "data": {
      "text/plain": [
       "(0.76803399790328009,\n",
       " 0.23196600209671997,\n",
       " 657217,\n",
       " 0.73613412739513207,\n",
       " 0.26386587260486793,\n",
       " 154480)"
      ]
     },
     "execution_count": 19,
     "metadata": {},
     "output_type": "execute_result"
    }
   ],
   "source": [
    "week_short, week_long, norm_week, weekend_short, weekend_long, norm_weekend"
   ]
  },
  {
   "cell_type": "markdown",
   "metadata": {},
   "source": [
    "** The chisq statistics tests the statistics calculated as : **\n",
    "\n",
    "$\\chi^2 = \\sum_{i} \\frac{(observation_i - expectation_i)^2}{expectation_i}$\n",
    "\n",
    " against a chi sq distribution.\n",
    " \n",
    "CONTINGENCY TABLE:"
   ]
  },
  {
   "cell_type": "markdown",
   "metadata": {},
   "source": [
    "|                 |     success         | failure|    |               \n",
    "|-----------------|:-------------------:|:-------------------:|---------------------------|\n",
    "| test sample     | number of successes in test    | number of failures in test    | number members of test sample |\n",
    "| control sample  | number of successes in control | number of failures in control | number members of control sample| \n",
    "|                 | total successes                |  total failures               | number of all members         |\n",
    "\n",
    "|long trips in weekdays  |     long trips          | short trips     |                   \n",
    "|---------------------------|:-------------------------:|----------------------|---------------------------|\n",
    "| test sample (weekdays)    | $0.2324*657551$           | $0.7676*657551$      | 657551               |\n",
    "| control sample (weekends) | $0.2646*154641$           | $0.7354*154641$     | 154641                |\n",
    "|                           |                       |                  |                           |\n",
    "| total                     | 193709.0               |  618483.0         | 812192                       |"
   ]
  },
  {
   "cell_type": "code",
   "execution_count": 20,
   "metadata": {},
   "outputs": [
    {
     "name": "stdout",
     "output_type": "stream",
     "text": [
      "714.677713469\n"
     ]
    }
   ],
   "source": [
    "sample_values = np.array([[0.2324 * 657551, 0.7676 * 657551], [0.2646 * 154641, 0.7354 * 154641]])\n",
    "\n",
    "print (evalChisq(sample_values))"
   ]
  },
  {
   "cell_type": "markdown",
   "metadata": {},
   "source": [
    "Because Degree of freedom here is 1 and we set significance level to 0.05, then we can find the critical Probability in table is 3.84\n",
    "\n",
    "chi-square statistic 714 > critical value 3.84\n",
    "\n",
    "It means that Null Hypothesis is rejected."
   ]
  },
  {
   "cell_type": "code",
   "execution_count": null,
   "metadata": {},
   "outputs": [],
   "source": []
  }
 ],
 "metadata": {
  "kernelspec": {
   "display_name": "Python 2",
   "language": "python",
   "name": "python2"
  },
  "language_info": {
   "codemirror_mode": {
    "name": "ipython",
    "version": 2
   },
   "file_extension": ".py",
   "mimetype": "text/x-python",
   "name": "python",
   "nbconvert_exporter": "python",
   "pygments_lexer": "ipython2",
   "version": "2.7.13"
  }
 },
 "nbformat": 4,
 "nbformat_minor": 1
}
